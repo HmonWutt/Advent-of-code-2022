{
 "cells": [
  {
   "cell_type": "code",
   "execution_count": 2,
   "metadata": {},
   "outputs": [
    {
     "name": "stdout",
     "output_type": "stream",
     "text": [
      "env: AOC_SESSION=53616c7465645f5f49059f4a5c4159c843c84bbe8c7955cbf891ebc16bea3d3d905d07da111068b3092e19a3aa92bb829951cbc4263fdb4cecd12e120e064a3f\n"
     ]
    }
   ],
   "source": [
    "%env AOC_SESSION = 53616c7465645f5f49059f4a5c4159c843c84bbe8c7955cbf891ebc16bea3d3d905d07da111068b3092e19a3aa92bb829951cbc4263fdb4cecd12e120e064a3f"
   ]
  },
  {
   "cell_type": "code",
   "execution_count": 40,
   "metadata": {},
   "outputs": [
    {
     "name": "stdout",
     "output_type": "stream",
     "text": [
      "\n"
     ]
    }
   ],
   "source": [
    "from aocd import get_data\n",
    "data = (get_data(day=1, year=2022)).split('\\n')"
   ]
  },
  {
   "cell_type": "code",
   "execution_count": 94,
   "metadata": {},
   "outputs": [
    {
     "name": "stdout",
     "output_type": "stream",
     "text": [
      "Part one answer: 70509\n",
      "Part two answer: 208567\n"
     ]
    }
   ],
   "source": [
    "\n",
    "space = data[13]\n",
    "lst = []\n",
    "tmp = []\n",
    "for i in data:\n",
    "    if i != space:\n",
    "        i = int(i)\n",
    "        tmp.append(i)\n",
    "    else:\n",
    "        lst.append(sum(tmp))\n",
    "        tmp = []\n",
    "\n",
    "print(f\"Part one answer: {max(lst)}\")\n",
    "lst.sort(reverse = True)\n",
    "print(f\"Part two answer: {sum(lst[:3])}\")"
   ]
  }
 ],
 "metadata": {
  "kernelspec": {
   "display_name": "Python 3.9.6 64-bit",
   "language": "python",
   "name": "python3"
  },
  "language_info": {
   "codemirror_mode": {
    "name": "ipython",
    "version": 3
   },
   "file_extension": ".py",
   "mimetype": "text/x-python",
   "name": "python",
   "nbconvert_exporter": "python",
   "pygments_lexer": "ipython3",
   "version": "3.9.6"
  },
  "orig_nbformat": 4,
  "vscode": {
   "interpreter": {
    "hash": "aee8b7b246df8f9039afb4144a1f6fd8d2ca17a180786b69acc140d282b71a49"
   }
  }
 },
 "nbformat": 4,
 "nbformat_minor": 2
}
