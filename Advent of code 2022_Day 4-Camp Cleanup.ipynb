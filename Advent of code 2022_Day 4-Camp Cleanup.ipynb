{
 "cells": [
  {
   "cell_type": "code",
   "execution_count": 2,
   "metadata": {},
   "outputs": [
    {
     "name": "stdout",
     "output_type": "stream",
     "text": [
      "env: AOC_SESSION=53616c7465645f5f49059f4a5c4159c843c84bbe8c7955cbf891ebc16bea3d3d905d07da111068b3092e19a3aa92bb829951cbc4263fdb4cecd12e120e064a3f\n"
     ]
    }
   ],
   "source": [
    "%env AOC_SESSION =53616c7465645f5f49059f4a5c4159c843c84bbe8c7955cbf891ebc16bea3d3d905d07da111068b3092e19a3aa92bb829951cbc4263fdb4cecd12e120e064a3f"
   ]
  },
  {
   "cell_type": "code",
   "execution_count": 3,
   "metadata": {},
   "outputs": [
    {
     "name": "stdout",
     "output_type": "stream",
     "text": [
      "['2-4,6-8', '2-3,4-5', '5-7,7-9', '2-8,3-7', '6-6,4-6', '2-6,4-8']\n"
     ]
    }
   ],
   "source": [
    "from aocd import get_data\n",
    "data = get_data(day=4, year=2022).split('\\n')\n",
    "test= '2-4,6-8\\n2-3,4-5\\n5-7,7-9\\n2-8,3-7\\n6-6,4-6\\n2-6,4-8'\n",
    "test_data = test.split('\\n')\n",
    "print(test_data)"
   ]
  },
  {
   "cell_type": "code",
   "execution_count": 4,
   "metadata": {},
   "outputs": [
    {
     "name": "stdout",
     "output_type": "stream",
     "text": [
      "475\n"
     ]
    }
   ],
   "source": [
    "###part one###\n",
    "\n",
    "count=0\n",
    "for i in data:\n",
    "    assignments = i.split(',')\n",
    "    first_elf_num = assignments[0].split('-')\n",
    "    second_elf_num = assignments[1].split('-')\n",
    "    #print(first_elf_num,second_elf_num)\n",
    "    if int(first_elf_num[0])<=int(second_elf_num[0]) and int(first_elf_num[1])>=int(second_elf_num[1]):\n",
    "        #print(\"True\")\n",
    "        count+=1\n",
    "    elif int(second_elf_num[0])<=int(first_elf_num[0]) and int(second_elf_num[1])>=int(first_elf_num[1]):\n",
    "        #print(\"True\")\n",
    "        count+=1\n",
    "    else:\n",
    "        pass\n",
    "        #print(\"false\")\n",
    "        \n",
    "print(count)"
   ]
  },
  {
   "cell_type": "code",
   "execution_count": 5,
   "metadata": {},
   "outputs": [
    {
     "name": "stdout",
     "output_type": "stream",
     "text": [
      "825\n"
     ]
    }
   ],
   "source": [
    "###part two###\n",
    "tmp_lst = []\n",
    "count_pairs = 0\n",
    "for i in data:\n",
    "    assignments = i.split(',')\n",
    "    first_elf_num = assignments[0].split('-')\n",
    "    first_elf = [int(i) for i in first_elf_num]\n",
    "    second_elf_num = assignments[1].split('-')\n",
    "    second_elf = [int(i) for i in second_elf_num]\n",
    "    #print(first_elf,second_elf)\n",
    "\n",
    "    for i in range(first_elf[0],first_elf[1]+1):\n",
    "        for j in range(second_elf[0],second_elf[1]+1):\n",
    "            if i==j:\n",
    "                tmp_lst.append(i)\n",
    "                \n",
    "    if len(tmp_lst) >0:\n",
    "        count_pairs+=1\n",
    "        #print('overlap',count_pairs)\n",
    "        tmp_lst = []\n",
    "\n",
    "print(count_pairs)"
   ]
  }
 ],
 "metadata": {
  "kernelspec": {
   "display_name": "Python 3.9.6 64-bit",
   "language": "python",
   "name": "python3"
  },
  "language_info": {
   "codemirror_mode": {
    "name": "ipython",
    "version": 3
   },
   "file_extension": ".py",
   "mimetype": "text/x-python",
   "name": "python",
   "nbconvert_exporter": "python",
   "pygments_lexer": "ipython3",
   "version": "3.9.6"
  },
  "orig_nbformat": 4,
  "vscode": {
   "interpreter": {
    "hash": "aee8b7b246df8f9039afb4144a1f6fd8d2ca17a180786b69acc140d282b71a49"
   }
  }
 },
 "nbformat": 4,
 "nbformat_minor": 2
}
