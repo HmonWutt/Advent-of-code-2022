{
 "cells": [
  {
   "cell_type": "code",
   "execution_count": 47,
   "metadata": {},
   "outputs": [
    {
     "name": "stdout",
     "output_type": "stream",
     "text": [
      "env: AOC_SESSION=53616c7465645f5f49059f4a5c4159c843c84bbe8c7955cbf891ebc16bea3d3d905d07da111068b3092e19a3aa92bb829951cbc4263fdb4cecd12e120e064a3f\n"
     ]
    }
   ],
   "source": [
    "%env AOC_SESSION =53616c7465645f5f49059f4a5c4159c843c84bbe8c7955cbf891ebc16bea3d3d905d07da111068b3092e19a3aa92bb829951cbc4263fdb4cecd12e120e064a3f"
   ]
  },
  {
   "cell_type": "code",
   "execution_count": 48,
   "metadata": {},
   "outputs": [
    {
     "name": "stdout",
     "output_type": "stream",
     "text": [
      "Part One Answer:['R', 'T', 'G', 'W', 'Z', 'T', 'H', 'L', 'D']\n"
     ]
    }
   ],
   "source": [
    "###part one ###\n",
    "\n",
    "\n",
    "from aocd import get_data\n",
    "data = get_data(day=5, year=2022).split('\\n')\n",
    "#print(data)\n",
    "\n",
    "ind_lst = [i for i in range(2,35,4)]\n",
    "#print(ind_lst)\n",
    "\n",
    "\n",
    "original_dic = {1:[],2:[],3:[],4:[],5:[],6:[],7:[],8:[],9:[]}\n",
    "pile = data[:8]\n",
    "instruction = data[10:]\n",
    "#print(instruction)\n",
    "\n",
    "\n",
    "tmp = []\n",
    "tmp_lst =[]\n",
    "for ind,i in enumerate(ind_lst):\n",
    "    for j in pile:\n",
    "        tmp.append(j[i-1:i])\n",
    "    tmp_lst.append(tmp)\n",
    "    #print(tmp_lst)\n",
    "    tmp = []\n",
    "\n",
    "for ind,i in enumerate(tmp_lst):\n",
    "    original_dic[ind+1] = i\n",
    "for key,value in original_dic.items():\n",
    "    value_lst = [i for i in value if i!= ' ']\n",
    "    value_lst.reverse()\n",
    "    original_dic[key] = value_lst\n",
    "#print(original_dic)\n",
    "dicc = original_dic.copy()\n",
    "#print(dicc)\n",
    "\n",
    "\n",
    "instruction_lst = []\n",
    "for i in instruction:\n",
    "    i = i.replace('move', '')\n",
    "    i= i.replace('from','')\n",
    "    i = i.replace('to','')\n",
    "    instruction_lst.append((i.strip()).split(' '))\n",
    "#print(instruction_lst)\n",
    "           \n",
    "\n",
    "for i in instruction_lst:\n",
    "\n",
    "    instruct = i\n",
    "    num = int(instruct[0])\n",
    "    pile_from = int(instruct[2])\n",
    "    pile_to = int(instruct[4])\n",
    "    #print(num,pile_from,pile_to)\n",
    "    #print(dicc[pile_from],dicc[pile_to])\n",
    "\n",
    "    for i in range(num):\n",
    "        \n",
    "        pile_to_lst = dicc[pile_to]\n",
    "        pile_from_lst = dicc[pile_from]\n",
    "        if pile_from_lst:\n",
    "            pile_to_lst.append(pile_from_lst[-1])\n",
    "            pile_from_lst.pop()\n",
    "    dicc[pile_from] =  pile_from_lst\n",
    "    dicc[pile_to] = pile_to_lst\n",
    "    #print(dicc)\n",
    "#print(dicc)\n",
    "print(f'Part One Answer:{[i[-1] for i in dicc.values()]}')"
   ]
  },
  {
   "cell_type": "code",
   "execution_count": 49,
   "metadata": {},
   "outputs": [
    {
     "name": "stdout",
     "output_type": "stream",
     "text": [
      "Part Two Answer:['S', 'T', 'H', 'G', 'R', 'Z', 'Z', 'F', 'R']\n"
     ]
    }
   ],
   "source": [
    "####part two####\n",
    "\n",
    "\n",
    "from aocd import get_data\n",
    "data = get_data(day=5, year=2022).split('\\n')\n",
    "#print(data)\n",
    "\n",
    "ind_lst = [i for i in range(2,35,4)]\n",
    "#print(ind_lst)\n",
    "\n",
    "\n",
    "original_dic = {1:[],2:[],3:[],4:[],5:[],6:[],7:[],8:[],9:[]}\n",
    "pile = data[:8]\n",
    "instruction = data[10:]\n",
    "#print(instruction)\n",
    "\n",
    "\n",
    "tmp = []\n",
    "tmp_lst =[]\n",
    "for ind,i in enumerate(ind_lst):\n",
    "    for j in pile:\n",
    "        tmp.append(j[i-1:i])\n",
    "    tmp_lst.append(tmp)\n",
    "    #print(tmp_lst)\n",
    "    tmp = []\n",
    "\n",
    "for ind,i in enumerate(tmp_lst):\n",
    "    original_dic[ind+1] = i\n",
    "for key,value in original_dic.items():\n",
    "    value_lst = [i for i in value if i!= ' ']\n",
    "    value_lst.reverse()\n",
    "    original_dic[key] = value_lst\n",
    "#print(original_dic)\n",
    "\n",
    "dic_2 = original_dic.copy()\n",
    "#print(dic_2)\n",
    "\n",
    "instruction_lst = []\n",
    "for i in instruction:\n",
    "    i = i.replace('move', '')\n",
    "    i= i.replace('from','')\n",
    "    i = i.replace('to','')\n",
    "    instruction_lst.append((i.strip()).split(' '))\n",
    "#print(instruction_lst)\n",
    "           \n",
    "\n",
    "for i in instruction_lst:\n",
    "\n",
    "    instruct = i\n",
    "    num = int(instruct[0])\n",
    "    pile_from = int(instruct[2])\n",
    "    pile_to = int(instruct[4])\n",
    "    #print(num,pile_from,pile_to)\n",
    "      \n",
    "    pile_to_lst = dic_2[pile_to]\n",
    "    pile_from_lst = dic_2[pile_from]\n",
    "    #print(pile_from_lst,pile_to_lst)\n",
    "    #print()\n",
    "    to_add = pile_to_lst+pile_from_lst[-num:]\n",
    "    pile_from_lst = pile_from_lst[:-num]\n",
    "    dic_2[pile_from] =  pile_from_lst\n",
    "    dic_2[pile_to] = to_add\n",
    "    #print(dic_2[pile_from],dic_2[pile_to])\n",
    "    #print()\n",
    "  \n",
    "#print(dic_2)\n",
    "print(f'Part Two Answer:{[i[-1] for i in dic_2.values()]}')"
   ]
  }
 ],
 "metadata": {
  "kernelspec": {
   "display_name": "Python 3.9.6 64-bit",
   "language": "python",
   "name": "python3"
  },
  "language_info": {
   "codemirror_mode": {
    "name": "ipython",
    "version": 3
   },
   "file_extension": ".py",
   "mimetype": "text/x-python",
   "name": "python",
   "nbconvert_exporter": "python",
   "pygments_lexer": "ipython3",
   "version": "3.9.6"
  },
  "orig_nbformat": 4,
  "vscode": {
   "interpreter": {
    "hash": "aee8b7b246df8f9039afb4144a1f6fd8d2ca17a180786b69acc140d282b71a49"
   }
  }
 },
 "nbformat": 4,
 "nbformat_minor": 2
}
